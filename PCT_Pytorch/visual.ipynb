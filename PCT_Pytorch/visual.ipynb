{
 "cells": [
  {
   "cell_type": "code",
   "execution_count": 114,
   "metadata": {},
   "outputs": [],
   "source": [
    "import torch\n",
    "from sampling import cal_weight"
   ]
  },
  {
   "cell_type": "code",
   "execution_count": 115,
   "metadata": {},
   "outputs": [
    {
     "name": "stdout",
     "output_type": "stream",
     "text": [
      "xyz: torch.Size([4, 20, 3])\n"
     ]
    }
   ],
   "source": [
    "B,N = 4,20\n",
    "xyz=torch.randn(4, 20,3)\n",
    "print(\"xyz:\",xyz.shape)"
   ]
  },
  {
   "cell_type": "code",
   "execution_count": 112,
   "metadata": {},
   "outputs": [],
   "source": [
    "def filter_random_point_sample(xyz, npoint, k=20,replace=False):\n",
    "    \"\"\"\n",
    "    Input:\n",
    "        xyz: pointcloud data, [B, N, C]\n",
    "        npoint: number of samples\n",
    "        k: k of knn\n",
    "    Return:\n",
    "        centroids: sampled pointcloud index, [B, npoint]\n",
    "    \"\"\"\n",
    "    # print(\"k::::\",k)\n",
    "    device = xyz.device\n",
    "    B, N, C = xyz.shape\t\n",
    "    centroids = torch.zeros(B, npoint, dtype=torch.long)#.to(device)\n",
    "    # 计算采样权重\n",
    "    num=int(N*0.95)\n",
    "    print(\"num:\",num)\n",
    "    # print(\"xyz:\",xyz)\n",
    "    weights, idx = cal_weight(xyz, k) #需要是(B,N)\n",
    "    print(\"weights:\",weights)\n",
    "    # print(\"weights:\",weights)\n",
    "    # 使用 torch.multinomial 来进行带权重的随机采样\n",
    "    # print(\"replace:\",replace)\n",
    "    indices = torch.arange(N, device=weights.device).unsqueeze(0).repeat(B, 1)  \n",
    "    # 将权重和索引堆叠起来，以便后续排序  \n",
    "    weighted_indices = torch.stack([weights, indices], dim=-1)  \n",
    "    # 根据权重对堆叠后的张量进行排序，获取排序后的索引  \n",
    "    _, sorted_indices = torch.sort(weighted_indices[:, :, 0], dim=1,descending=True)  \n",
    "    # 选择前num个 \n",
    "    smallest_indices = sorted_indices[:,:num]  \n",
    "    # 创建一个与原weights形状相同的mask张量，初始化全为False  \n",
    "    mask = torch.zeros(B, N, dtype=torch.bool, device=weights.device)  \n",
    "    # 使用scatter_将smallest_indices对应的位置在mask中设置为True  \n",
    "    mask.scatter_(1, smallest_indices, 1) \n",
    "    # print(\"mask:\",mask)\n",
    "    modified_weights = (mask).float()\n",
    "    print(\"modified_weights:\",modified_weights)\n",
    "    centroids = torch.multinomial(modified_weights, npoint,replacement=replace).squeeze()\n",
    "    # print(\"centroids:\",centroids.shape)\n",
    "    return centroids,idx"
   ]
  },
  {
   "cell_type": "code",
   "execution_count": 113,
   "metadata": {},
   "outputs": [
    {
     "name": "stdout",
     "output_type": "stream",
     "text": [
      "num: 19\n",
      "weights: tensor([[0.0625, 0.0312, 0.0312, 0.0625, 0.0312, 0.0625, 0.0625, 0.0938, 0.0312,\n",
      "         0.0312, 0.0312, 0.0312, 0.0312, 0.0312, 0.0625, 0.0625, 0.0625, 0.0312,\n",
      "         0.0938, 0.0625],\n",
      "        [0.0556, 0.0556, 0.0556, 0.0278, 0.0556, 0.0278, 0.0833, 0.0556, 0.0556,\n",
      "         0.0278, 0.0278, 0.0278, 0.0278, 0.0833, 0.0556, 0.0556, 0.0556, 0.0556,\n",
      "         0.0833, 0.0278],\n",
      "        [0.0882, 0.0294, 0.0588, 0.0294, 0.0588, 0.0294, 0.0294, 0.0588, 0.0882,\n",
      "         0.0294, 0.0588, 0.0588, 0.0588, 0.0588, 0.0294, 0.0294, 0.0294, 0.0294,\n",
      "         0.0882, 0.0588],\n",
      "        [0.0857, 0.0857, 0.0571, 0.0571, 0.0286, 0.0286, 0.0286, 0.0857, 0.0286,\n",
      "         0.0286, 0.0286, 0.0571, 0.0286, 0.0857, 0.0571, 0.0857, 0.0571, 0.0286,\n",
      "         0.0286, 0.0286]])\n",
      "modified_weights: tensor([[1., 0., 1., 1., 1., 1., 1., 1., 1., 1., 1., 1., 1., 1., 1., 1., 1., 1.,\n",
      "         1., 1.],\n",
      "        [1., 1., 1., 0., 1., 1., 1., 1., 1., 1., 1., 1., 1., 1., 1., 1., 1., 1.,\n",
      "         1., 1.],\n",
      "        [1., 0., 1., 1., 1., 1., 1., 1., 1., 1., 1., 1., 1., 1., 1., 1., 1., 1.,\n",
      "         1., 1.],\n",
      "        [1., 1., 1., 1., 0., 1., 1., 1., 1., 1., 1., 1., 1., 1., 1., 1., 1., 1.,\n",
      "         1., 1.]])\n",
      "cen: tensor([[18,  5,  2,  3,  0, 14, 13, 19, 12, 15],\n",
      "        [17, 13,  2,  4,  7,  8,  9, 19, 14, 18],\n",
      "        [ 3, 17,  0,  6, 19, 11,  5,  4,  8, 13],\n",
      "        [17,  5,  7, 19, 14, 18,  1,  2, 15, 11]])\n"
     ]
    }
   ],
   "source": [
    "cen,_ = filter_random_point_sample(xyz,10,3)\n",
    "print(\"cen:\",cen)"
   ]
  },
  {
   "cell_type": "code",
   "execution_count": 116,
   "metadata": {},
   "outputs": [],
   "source": [
    "num1 = int(N * 0.8)\n",
    "num2 = int(N*0.8)\n",
    "weights,idx_k = cal_weight(xyz, k=5)"
   ]
  },
  {
   "cell_type": "code",
   "execution_count": 117,
   "metadata": {},
   "outputs": [
    {
     "name": "stdout",
     "output_type": "stream",
     "text": [
      "weights: tensor([[0.0385, 0.0769, 0.0577, 0.0192, 0.0769, 0.0962, 0.0385, 0.0769, 0.0385,\n",
      "         0.0769, 0.0577, 0.0192, 0.0192, 0.0385, 0.0192, 0.0769, 0.0192, 0.0385,\n",
      "         0.0192, 0.0962],\n",
      "        [0.0862, 0.0172, 0.0862, 0.0690, 0.0690, 0.0862, 0.0345, 0.0172, 0.0345,\n",
      "         0.0345, 0.0862, 0.0862, 0.0345, 0.0517, 0.0345, 0.0345, 0.0517, 0.0345,\n",
      "         0.0345, 0.0172],\n",
      "        [0.0455, 0.0227, 0.0682, 0.0909, 0.0227, 0.0909, 0.0909, 0.0682, 0.0455,\n",
      "         0.0227, 0.0455, 0.0455, 0.0227, 0.0227, 0.0227, 0.0682, 0.0455, 0.0227,\n",
      "         0.0682, 0.0682],\n",
      "        [0.0377, 0.0755, 0.0377, 0.0377, 0.0755, 0.0755, 0.0377, 0.0755, 0.0943,\n",
      "         0.0377, 0.0755, 0.0189, 0.0189, 0.0377, 0.0755, 0.0377, 0.0566, 0.0377,\n",
      "         0.0377, 0.0189]])\n"
     ]
    }
   ],
   "source": [
    "print(\"weights:\",weights)"
   ]
  },
  {
   "cell_type": "code",
   "execution_count": 118,
   "metadata": {},
   "outputs": [
    {
     "name": "stdout",
     "output_type": "stream",
     "text": [
      "smallest_indices: tensor([[12, 14, 16, 18],\n",
      "        [ 6, 19,  7,  1],\n",
      "        [ 9, 17,  4,  1],\n",
      "        [18, 11, 12, 19]])\n",
      "biggest_indices: tensor([[19,  5,  1, 15,  9],\n",
      "        [ 0,  2,  5, 10, 11],\n",
      "        [ 3,  5,  6, 19,  2],\n",
      "        [ 8,  1, 14, 10,  7]])\n",
      "before weights: tensor([[0.0385, 0.0769, 0.0577, 0.0192, 0.0769, 0.0962, 0.0385, 0.0769, 0.0385,\n",
      "         0.0769, 0.0577, 0.0192, 0.0192, 0.0385, 0.0192, 0.0769, 0.0192, 0.0385,\n",
      "         0.0192, 0.0962],\n",
      "        [0.0862, 0.0172, 0.0862, 0.0690, 0.0690, 0.0862, 0.0345, 0.0172, 0.0345,\n",
      "         0.0345, 0.0862, 0.0862, 0.0345, 0.0517, 0.0345, 0.0345, 0.0517, 0.0345,\n",
      "         0.0345, 0.0172],\n",
      "        [0.0455, 0.0227, 0.0682, 0.0909, 0.0227, 0.0909, 0.0909, 0.0682, 0.0455,\n",
      "         0.0227, 0.0455, 0.0455, 0.0227, 0.0227, 0.0227, 0.0682, 0.0455, 0.0227,\n",
      "         0.0682, 0.0682],\n",
      "        [0.0377, 0.0755, 0.0377, 0.0377, 0.0755, 0.0755, 0.0377, 0.0755, 0.0943,\n",
      "         0.0377, 0.0755, 0.0189, 0.0189, 0.0377, 0.0755, 0.0377, 0.0566, 0.0377,\n",
      "         0.0377, 0.0189]])\n",
      "after weights: tensor([[ 0.0385, -1.0000,  0.0577,  0.0192,  0.0769, -1.0000,  0.0385,  0.0769,\n",
      "          0.0385, -1.0000,  0.0577,  0.0192, -1.0000,  0.0385, -1.0000, -1.0000,\n",
      "         -1.0000,  0.0385, -1.0000, -1.0000],\n",
      "        [-1.0000, -1.0000, -1.0000,  0.0690,  0.0690, -1.0000, -1.0000, -1.0000,\n",
      "          0.0345,  0.0345, -1.0000, -1.0000,  0.0345,  0.0517,  0.0345,  0.0345,\n",
      "          0.0517,  0.0345,  0.0345, -1.0000],\n",
      "        [ 0.0455, -1.0000, -1.0000, -1.0000, -1.0000, -1.0000, -1.0000,  0.0682,\n",
      "          0.0455, -1.0000,  0.0455,  0.0455,  0.0227,  0.0227,  0.0227,  0.0682,\n",
      "          0.0455, -1.0000,  0.0682, -1.0000],\n",
      "        [ 0.0377, -1.0000,  0.0377,  0.0377,  0.0755,  0.0755,  0.0377, -1.0000,\n",
      "         -1.0000,  0.0377, -1.0000, -1.0000, -1.0000,  0.0377, -1.0000,  0.0377,\n",
      "          0.0566,  0.0377, -1.0000, -1.0000]])\n",
      "N-num: 16\n",
      "tensor(36)\n"
     ]
    }
   ],
   "source": [
    "# 创建一个索引张量  \n",
    "indices = torch.arange(N, device=weights.device).unsqueeze(0).repeat(B, 1)  \n",
    "# 将权重和索引堆叠起来，以便后续排序  \n",
    "weighted_indices = torch.stack([weights, indices], dim=-1)  \n",
    "# 根据权重对堆叠后的张量进行排序，获取排序后的索引  \n",
    "_, sorted_indices = torch.sort(weighted_indices[:, :, 0], dim=1,descending=True)  \n",
    "# 选择前num个 \n",
    "smallest_indices = sorted_indices[:, num1:] \n",
    "print(\"smallest_indices:\",smallest_indices) \n",
    "# 创建一个与原weights形状相同的mask张量，初始化全为False  \n",
    "mask = torch.zeros(B, N, dtype=torch.bool, device=weights.device)  \n",
    "# 使用scatter_将smallest_indices对应的位置在mask中设置为True  \n",
    "mask.scatter_(1, smallest_indices, 1) \n",
    "# print(\"mask:\",mask)\n",
    "biggest_indices =  sorted_indices[:, :N-num2]\n",
    "print(\"biggest_indices:\",biggest_indices)\n",
    "mask.scatter_(1, biggest_indices, 1) \n",
    "\n",
    "# 将mask中标记为True的位置在weights中设置为-1  \n",
    "print(\"before weights:\",weights)\n",
    "weights[mask] = -1  \n",
    "print(\"after weights:\",weights)\n",
    "print(\"N-num:\",(N-num1)*B)\n",
    "print(torch.sum(weights==-1))"
   ]
  },
  {
   "cell_type": "code",
   "execution_count": 47,
   "metadata": {},
   "outputs": [],
   "source": [
    "indices = torch.arange(N, device=weights.device).unsqueeze(0).repeat(B, 1)\n"
   ]
  },
  {
   "cell_type": "code",
   "execution_count": 48,
   "metadata": {},
   "outputs": [
    {
     "name": "stdout",
     "output_type": "stream",
     "text": [
      "indices: torch.Size([4, 20])\n"
     ]
    }
   ],
   "source": [
    "print(\"indices:\",indices.shape)"
   ]
  },
  {
   "cell_type": "code",
   "execution_count": 49,
   "metadata": {},
   "outputs": [],
   "source": [
    "sorted_weights_indices = torch.stack([weights, indices], dim=-1)  "
   ]
  },
  {
   "cell_type": "code",
   "execution_count": 50,
   "metadata": {},
   "outputs": [
    {
     "name": "stdout",
     "output_type": "stream",
     "text": [
      "sorted_weights_indices: torch.Size([4, 20, 2])\n"
     ]
    }
   ],
   "source": [
    "print(\"sorted_weights_indices:\",sorted_weights_indices.shape)"
   ]
  },
  {
   "cell_type": "code",
   "execution_count": 51,
   "metadata": {},
   "outputs": [
    {
     "name": "stdout",
     "output_type": "stream",
     "text": [
      "sorted_weights_indices_sorted: torch.Size([4, 20, 2])\n"
     ]
    }
   ],
   "source": [
    "sorted_weights_indices_sorted, _ = torch.sort(sorted_weights_indices, dim=1, descending=False)\n",
    "print(\"sorted_weights_indices_sorted:\",sorted_weights_indices_sorted.shape)   "
   ]
  },
  {
   "cell_type": "code",
   "execution_count": 52,
   "metadata": {},
   "outputs": [
    {
     "name": "stdout",
     "output_type": "stream",
     "text": [
      "sorted_indices: torch.Size([4, 20])\n"
     ]
    }
   ],
   "source": [
    "sorted_weights, sorted_indices = sorted_weights_indices_sorted[:, :, 0], sorted_weights_indices_sorted[:, :, 1]  \n",
    "sorted_indices = sorted_indices.to(torch.int64)  \n",
    "print(\"sorted_indices:\",sorted_indices.shape)"
   ]
  },
  {
   "cell_type": "code",
   "execution_count": 53,
   "metadata": {},
   "outputs": [
    {
     "name": "stdout",
     "output_type": "stream",
     "text": [
      "keep: 5\n",
      "mask: tensor([[ True,  True,  True,  True,  True, False, False, False, False, False,\n",
      "         False, False, False, False, False, False, False, False, False, False],\n",
      "        [ True,  True,  True,  True,  True, False, False, False, False, False,\n",
      "         False, False, False, False, False, False, False, False, False, False],\n",
      "        [ True,  True,  True,  True,  True, False, False, False, False, False,\n",
      "         False, False, False, False, False, False, False, False, False, False],\n",
      "        [ True,  True,  True,  True,  True, False, False, False, False, False,\n",
      "         False, False, False, False, False, False, False, False, False, False]])\n",
      "before weights: tensor([[-1.0000, -1.0000, -1.0000, -1.0000, -1.0000,  0.0351,  0.0351,  0.0351,\n",
      "          0.0351,  0.0351,  0.0526,  0.0526,  0.0702,  0.0702,  0.0702,  0.0702,\n",
      "          0.0877,  0.0877,  0.0877,  0.0877],\n",
      "        [-1.0000, -1.0000, -1.0000, -1.0000, -1.0000,  0.0364,  0.0364,  0.0364,\n",
      "          0.0364,  0.0364,  0.0364,  0.0364,  0.0364,  0.0545,  0.0727,  0.0727,\n",
      "          0.0909,  0.0909,  0.0909,  0.0909],\n",
      "        [-1.0000, -1.0000, -1.0000, -1.0000, -1.0000,  0.0217,  0.0217,  0.0435,\n",
      "          0.0435,  0.0435,  0.0435,  0.0652,  0.0652,  0.0652,  0.0652,  0.0652,\n",
      "          0.0870,  0.0870,  0.0870,  0.0870],\n",
      "        [-1.0000, -1.0000, -1.0000, -1.0000, -1.0000,  0.0351,  0.0351,  0.0351,\n",
      "          0.0351,  0.0526,  0.0526,  0.0526,  0.0702,  0.0702,  0.0702,  0.0702,\n",
      "          0.0702,  0.0702,  0.0877,  0.0877]])\n",
      "sorted_weights: tensor([[-1.0000, -1.0000, -1.0000, -1.0000, -1.0000,  0.0351,  0.0351,  0.0351,\n",
      "          0.0351,  0.0351,  0.0526,  0.0526,  0.0702,  0.0702,  0.0702,  0.0702,\n",
      "          0.0877,  0.0877,  0.0877,  0.0877],\n",
      "        [-1.0000, -1.0000, -1.0000, -1.0000, -1.0000,  0.0364,  0.0364,  0.0364,\n",
      "          0.0364,  0.0364,  0.0364,  0.0364,  0.0364,  0.0545,  0.0727,  0.0727,\n",
      "          0.0909,  0.0909,  0.0909,  0.0909],\n",
      "        [-1.0000, -1.0000, -1.0000, -1.0000, -1.0000,  0.0217,  0.0217,  0.0435,\n",
      "          0.0435,  0.0435,  0.0435,  0.0652,  0.0652,  0.0652,  0.0652,  0.0652,\n",
      "          0.0870,  0.0870,  0.0870,  0.0870],\n",
      "        [-1.0000, -1.0000, -1.0000, -1.0000, -1.0000,  0.0351,  0.0351,  0.0351,\n",
      "          0.0351,  0.0526,  0.0526,  0.0526,  0.0702,  0.0702,  0.0702,  0.0702,\n",
      "          0.0702,  0.0702,  0.0877,  0.0877]])\n"
     ]
    }
   ],
   "source": [
    "mask = torch.zeros(B, N, dtype=torch.bool, device=weights.device)  \n",
    "keep_num = N - num \n",
    "print(\"keep:\",keep_num)\n",
    "mask.scatter_(1, sorted_indices[:, :keep_num].contiguous(), 1)  \n",
    "print(\"mask:\",mask)\n",
    "# mask = ~mask  # 反转mask，因为我们之前设置的是要保留的位置，现在要得到要设置为-1的位置  \n",
    "# print(\"mask:\",mask)\n",
    "# print(\"before sort:\",weights)\n",
    "print(\"before weights:\",sorted_weights)\n",
    "# 使用masked_fill_将mask为True的位置在weights中设置为-1  \n",
    "sorted_weights.masked_fill_(mask, -1)\n",
    "print(\"sorted_weights:\",sorted_weights)"
   ]
  },
  {
   "cell_type": "code",
   "execution_count": 54,
   "metadata": {},
   "outputs": [
    {
     "name": "stdout",
     "output_type": "stream",
     "text": [
      "tensor([1.2429])\n",
      "k: tensor([1.2429])\n",
      "ratio: tensor([1.1834])\n",
      "2**r: tensor([1.1834])\n",
      "rat: tensor([0.5946])\n"
     ]
    }
   ],
   "source": [
    "r = torch.normal(mean=torch.tensor([1.0]), std=torch.tensor(0.3))  # Gaussian distribution with mean=1.0, std=0.1\n",
    "print(r)\n",
    "if r <= 1:\n",
    "    # Downsample the point cloud\n",
    "    k = torch.clamp(r,0.5, 1.0)  # Clip ratio to be within [0.75/0.5, 1.0]\n",
    "    ratio = 2**(k-1)\n",
    "    print(\"k:\",k)\n",
    "    print(\"ratio:\",ratio)\n",
    "    print(\"2**r:\",2**(r-1))\n",
    "else:\n",
    "    k = torch.clamp(r, 1.0,2.0)  # Clip ratio to be within [0.75/0.5, 1.0]\n",
    "    ratio = 2**(k-1)\n",
    "    print(\"k:\",k)\n",
    "    print(\"ratio:\",ratio)\n",
    "    print(\"2**r:\",2**(r-1))\n",
    "\n",
    "rat = 2**((torch.rand(1) - 0.5)*2)\n",
    "print(\"rat:\",rat)"
   ]
  },
  {
   "cell_type": "code",
   "execution_count": 55,
   "metadata": {},
   "outputs": [
    {
     "name": "stdout",
     "output_type": "stream",
     "text": [
      "rat: tensor([0.5821])\n",
      "k: tensor([0.5821])\n",
      "ratio: tensor([0.7485])\n"
     ]
    }
   ],
   "source": [
    "import torch  \n",
    "  \n",
    "# 生成与 2**((torch.rand(1) - 0.5) * 2) 分布相同的随机数  \n",
    "uniform_sample = torch.rand(1)  # 生成 [0, 1) 范围内的随机数  \n",
    "rat = 2 ** ((uniform_sample - 0.5) * 2)  # 将随机数映射到 [0.5, 2] 范围内  \n",
    "  \n",
    "print(\"rat:\", rat)  \n",
    "  \n",
    "# 根据 rat 的值进行后续处理  \n",
    "if rat <= 1:  \n",
    "    # 下采样逻辑  \n",
    "    k = torch.clamp(rat, 0.5, 1.0)  # 限制 k 的范围在 [0.5, 1.0]  \n",
    "    ratio = 2 ** (k - 1)  # 根据 k 计算 ratio  \n",
    "    print(\"k:\", k)  \n",
    "    print(\"ratio:\", ratio)  \n",
    "else:  \n",
    "    k = torch.clamp(rat, 1.0, 2.0)  # 如果 rat > 1，则限制 k 的范围在 [1.0, 2.0]  \n",
    "    ratio = 2 ** (k - 1)  # 根据 k 计算 ratio  \n",
    "    print(\"k:\", k)  \n",
    "    print(\"ratio:\", ratio)"
   ]
  },
  {
   "cell_type": "code",
   "execution_count": 56,
   "metadata": {},
   "outputs": [
    {
     "ename": "SyntaxError",
     "evalue": "invalid syntax (3437293911.py, line 9)",
     "output_type": "error",
     "traceback": [
      "\u001b[0;36m  Cell \u001b[0;32mIn[56], line 9\u001b[0;36m\u001b[0m\n\u001b[0;31m    x=point cloud[:,0],\u001b[0m\n\u001b[0m            ^\u001b[0m\n\u001b[0;31mSyntaxError\u001b[0m\u001b[0;31m:\u001b[0m invalid syntax\n"
     ]
    }
   ],
   "source": [
    "import plotly.io as pio\n",
    "#pio.renderers.default='colab'\n",
    "import plotly.graph_objects as go\n",
    "import numpy as np\n",
    "#生成一些示例点云数据\n",
    "point_cloud = filtered_point_cloud[0]\n",
    "# 使用Plotly进行3D可视化\n",
    "fig =go.Figure(data=[go.Scatter3d(\n",
    "x=point cloud[:,0],\n",
    "y=point cloud[:,1],\n",
    "z=point cloud[:,2],\n",
    "mode='markers',\n",
    "marker=dict(\n",
    "size=2,\n",
    "color=point_cloud[:,2],# 将颜色设置为Z轴的值\n",
    "colorscale='Viridis'))])"
   ]
  }
 ],
 "metadata": {
  "kernelspec": {
   "display_name": "pointnet",
   "language": "python",
   "name": "python3"
  },
  "language_info": {
   "codemirror_mode": {
    "name": "ipython",
    "version": 3
   },
   "file_extension": ".py",
   "mimetype": "text/x-python",
   "name": "python",
   "nbconvert_exporter": "python",
   "pygments_lexer": "ipython3",
   "version": "3.8.18"
  }
 },
 "nbformat": 4,
 "nbformat_minor": 2
}
