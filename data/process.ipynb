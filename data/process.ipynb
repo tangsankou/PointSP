{
 "cells": [
  {
   "cell_type": "code",
   "execution_count": 1,
   "metadata": {},
   "outputs": [],
   "source": [
    "import os"
   ]
  },
  {
   "cell_type": "code",
   "execution_count": 2,
   "metadata": {},
   "outputs": [
    {
     "name": "stdout",
     "output_type": "stream",
     "text": [
      "['piano', 'toilet', 'vase', 'range_hood', 'flower_pot', 'bottle', 'cup', 'stool', 'plant', 'airplane', 'bed', 'monitor', 'door', 'bench', 'stairs', 'tv_stand', 'bookshelf', 'laptop', 'cone', 'wardrobe', 'lamp', 'keyboard', 'bowl', 'car', 'radio', 'desk', 'sofa', 'dresser', 'person', 'curtain', 'tent', 'chair', 'sink', 'bathtub', 'guitar', 'glass_box', 'night_stand', 'xbox', 'mantel', 'table']\n"
     ]
    }
   ],
   "source": [
    "# 指定ModelNet40文件夹的路径  \n",
    "folder_path = '/home/user_tp/workspace/data/ModelNet40/'  \n",
    "  \n",
    "# 初始化一个空列表来保存子文件夹名  \n",
    "mn40 = []  \n",
    "  \n",
    "# 遍历ModelNet40文件夹下的内容  \n",
    "for item in os.listdir(folder_path):  \n",
    "    item_path = os.path.join(folder_path, item)  \n",
    "    # 检查该项是否为文件夹  \n",
    "    if os.path.isdir(item_path):  \n",
    "        mn40.append(item)  \n",
    "  \n",
    "# 打印子文件夹名列表  \n",
    "print(mn40)"
   ]
  },
  {
   "cell_type": "code",
   "execution_count": 6,
   "metadata": {},
   "outputs": [
    {
     "name": "stdout",
     "output_type": "stream",
     "text": [
      "40\n"
     ]
    }
   ],
   "source": [
    "print(len(mn40))"
   ]
  },
  {
   "cell_type": "code",
   "execution_count": 11,
   "metadata": {},
   "outputs": [
    {
     "name": "stdout",
     "output_type": "stream",
     "text": [
      "['squash', 'hairpin', 'rubik_cube', 'hat', 'dustbin', 'dumpling', 'mushroom', 'pinecone', 'pumpkin', 'red_jujube', 'ornaments', 'lemon', 'chair', 'toothpick_box', 'hand_cream', 'guitar', 'toy_motorcycle', 'umbrella', 'flute', 'facial_cream', 'flower_pot', 'red_wine_glass', 'pillow', 'donut', 'broad_bean', 'durian', 'mangosteen', 'shampoo', 'cup', 'pineapple', 'toy_plane', 'toy_train', 'cucumber', 'sweet_potato', 'tooth_paste', 'pen', 'pistachio', 'cake', 'nipple', 'starfish', 'garage_kit', 'lipstick', 'belt', 'chinese_chess', 'fork', 'hami_melon', 'medicine_bottle', 'pan', 'spanner', 'box', 'mouse', 'microwaveoven', 'broccoli', 'canned_beverage', 'dinosaur', 'thermos', 'carrot', 'pad', 'ginger', 'plug', 'soap', 'plant', 'toy_boat', 'scissor', 'gloves', 'cherry', 'broccolini', 'fire_extinguisher', 'teddy_bear', 'package', 'hair_dryer', 'pancake', 'dumbbell', 'litchi', 'yam', 'haw_thorn', 'picnic_basket', 'ricecooker', 'chili', 'bowl', 'peach', 'rice_cake', 'calculator', 'book', 'chicken_leg', 'tissue', 'chess', 'dice', 'dish', 'green_bean_cake', 'sword_bean', 'oyster', 'frisbee', 'candle', 'sausage', 'fan', 'egg_tart', 'bottle', 'hot_dog', 'puff', 'watch', 'thimble', 'bamboo_shoots', 'orange', 'eraser', 'drum', 'popcorn', 'tvstand', 'laptop', 'whistle', 'remote_control', 'stool', 'suitcase', 'power_strip', 'antique', 'sandwich', 'potato', 'bread', 'water_chestnut', 'backpack', 'coconut', 'cheese', 'light', 'bucket_noodle', 'brussels_sprout', 'egg', 'glasses_case', 'toy_truck', 'candy', 'bun', 'drawing', 'bed', 'chocolate', 'laundry_detergent', 'zongzi', 'boxed_beverage', 'battery', 'glasses', 'watermelon', 'beauty_blender', 'china', 'brush', 'shoe', 'toy_animals', 'hammer', 'fig', 'tooth_brush', 'kettle', 'flash_light', 'apple', 'potato_chips', 'pear', 'timer', 'lotus_root', 'mango', 'longan', 'cabinet', 'bumbag', 'peanut', 'mooncake', 'ball', 'conch', 'steamed_bun', 'shrimp', 'razor', 'tomato', 'biscuit', 'wallet', 'asparagus', 'clock', 'burrito', 'pomegranate', 'doll', 'cauliflower', 'walnut', 'handbag', 'garlic', 'banana', 'pitaya', 'toy_car', 'earplug', 'table', 'waffle', 'table_tennis_bat', 'monitor', 'hazelnut', 'kiwifruit', 'magnet', 'corn', 'speaker', 'kennel', 'ornament', 'kite', 'insole', 'skateboard', 'pastry', 'tape_measure', 'knife', 'keyboard', 'house', 'strawberry', 'teapot', 'sofa', 'anise', 'toy_bus', 'hamburger', 'helmet', 'projector', 'vase', 'pizza', 'sushi', 'toy_plant', 'shaomai', 'pie', 'loquat', 'onion']\n"
     ]
    }
   ],
   "source": [
    "folder_path = '/home/user_tp/workspace/code/attack/ModelNet40-C/data/OmniObject3D/'  \n",
    "  \n",
    "# 初始化一个空列表来存储提取的字符串  \n",
    "extracted_names = []  \n",
    "  \n",
    "# 遍历文件夹中的所有文件  \n",
    "for filename in os.listdir(folder_path):  \n",
    "    if filename.endswith('_1024.hdf5'):  # 确保只处理以_1024.hdf5结尾的文件  \n",
    "        # 去掉'_1024.hdf5'后缀  \n",
    "        extracted_name = filename[:-10]  # 这里的10是'_1024.hdf5'的长度  \n",
    "        extracted_names.append(extracted_name)  # 添加到列表中  \n",
    "  \n",
    "# 打印提取出的字符串列表  \n",
    "print(extracted_names)"
   ]
  },
  {
   "cell_type": "code",
   "execution_count": 12,
   "metadata": {},
   "outputs": [
    {
     "name": "stdout",
     "output_type": "stream",
     "text": [
      "216\n"
     ]
    }
   ],
   "source": [
    "print(len(extracted_names))"
   ]
  },
  {
   "cell_type": "code",
   "execution_count": 5,
   "metadata": {},
   "outputs": [
    {
     "name": "stdout",
     "output_type": "stream",
     "text": [
      "len: 14\n",
      "Common names: ['plant', 'cup', 'sofa', 'bowl', 'table', 'keyboard', 'bottle', 'vase', 'chair', 'stool', 'bed', 'guitar', 'monitor', 'laptop']\n"
     ]
    }
   ],
   "source": [
    "common_names = set(mn40) & set(extracted_names)  \n",
    "  \n",
    "# 将交集转换回列表，并打印出来  \n",
    "common_names_list = list(common_names) \n",
    "print(\"len:\",len(common_names_list)) \n",
    "print(\"Common names:\",common_names_list)  "
   ]
  },
  {
   "cell_type": "code",
   "execution_count": 8,
   "metadata": {},
   "outputs": [
    {
     "name": "stdout",
     "output_type": "stream",
     "text": [
      "Copied /home/user_tp/workspace/data/OmniObject3D/plant_1024.hdf5 to /home/user_tp/workspace/data/OmniMN40/plant_1024.hdf5\n",
      "Copied /home/user_tp/workspace/data/OmniObject3D/cup_1024.hdf5 to /home/user_tp/workspace/data/OmniMN40/cup_1024.hdf5\n",
      "Copied /home/user_tp/workspace/data/OmniObject3D/sofa_1024.hdf5 to /home/user_tp/workspace/data/OmniMN40/sofa_1024.hdf5\n",
      "Copied /home/user_tp/workspace/data/OmniObject3D/bowl_1024.hdf5 to /home/user_tp/workspace/data/OmniMN40/bowl_1024.hdf5\n",
      "Copied /home/user_tp/workspace/data/OmniObject3D/table_1024.hdf5 to /home/user_tp/workspace/data/OmniMN40/table_1024.hdf5\n",
      "Copied /home/user_tp/workspace/data/OmniObject3D/keyboard_1024.hdf5 to /home/user_tp/workspace/data/OmniMN40/keyboard_1024.hdf5\n",
      "Copied /home/user_tp/workspace/data/OmniObject3D/bottle_1024.hdf5 to /home/user_tp/workspace/data/OmniMN40/bottle_1024.hdf5\n",
      "Copied /home/user_tp/workspace/data/OmniObject3D/vase_1024.hdf5 to /home/user_tp/workspace/data/OmniMN40/vase_1024.hdf5\n",
      "Copied /home/user_tp/workspace/data/OmniObject3D/chair_1024.hdf5 to /home/user_tp/workspace/data/OmniMN40/chair_1024.hdf5\n",
      "Copied /home/user_tp/workspace/data/OmniObject3D/stool_1024.hdf5 to /home/user_tp/workspace/data/OmniMN40/stool_1024.hdf5\n",
      "Copied /home/user_tp/workspace/data/OmniObject3D/bed_1024.hdf5 to /home/user_tp/workspace/data/OmniMN40/bed_1024.hdf5\n",
      "Copied /home/user_tp/workspace/data/OmniObject3D/guitar_1024.hdf5 to /home/user_tp/workspace/data/OmniMN40/guitar_1024.hdf5\n",
      "Copied /home/user_tp/workspace/data/OmniObject3D/monitor_1024.hdf5 to /home/user_tp/workspace/data/OmniMN40/monitor_1024.hdf5\n",
      "Copied /home/user_tp/workspace/data/OmniObject3D/laptop_1024.hdf5 to /home/user_tp/workspace/data/OmniMN40/laptop_1024.hdf5\n"
     ]
    }
   ],
   "source": [
    "import shutil  \n",
    "\n",
    "omni_object3d_path = '/home/user_tp/workspace/data/OmniObject3D/'  \n",
    "  \n",
    "# 新的文件夹路径，用于存放复制的文件  \n",
    "new_folder_path = '/home/user_tp/workspace/data/OmniMN40'  \n",
    "  \n",
    "# 如果新文件夹不存在，则创建它  \n",
    "if not os.path.exists(new_folder_path):  \n",
    "    os.makedirs(new_folder_path)  \n",
    "  \n",
    "# 遍历 common_names_list，查找并复制文件  \n",
    "for name in common_names_list:  \n",
    "    # 为每个名字添加后缀 '_1024.hdf5'  \n",
    "    file_name = f\"{name}_1024.hdf5\"  \n",
    "    # 构建完整的文件路径  \n",
    "    source_path = os.path.join(omni_object3d_path, file_name)  \n",
    "    # 如果文件存在，则复制到新文件夹  \n",
    "    if os.path.exists(source_path):  \n",
    "        destination_path = os.path.join(new_folder_path, file_name)  \n",
    "        shutil.copy2(source_path, destination_path)  # 使用 copy2 保留元数据  \n",
    "        print(f\"Copied {source_path} to {destination_path}\")  \n",
    "    else:  \n",
    "        print(f\"File {source_path} does not exist.\")"
   ]
  },
  {
   "cell_type": "code",
   "execution_count": 9,
   "metadata": {},
   "outputs": [],
   "source": [
    "data_path = \"/home/user_tp/workspace/data/ModelNet40/airplane/test/airplane_0627.ply\""
   ]
  },
  {
   "cell_type": "code",
   "execution_count": 10,
   "metadata": {},
   "outputs": [
    {
     "name": "stdout",
     "output_type": "stream",
     "text": [
      "Element: vertex\n",
      "  Property: x, data type: <bound method PlyProperty.dtype of PlyProperty('x', 'float')>\n",
      "  Property: y, data type: <bound method PlyProperty.dtype of PlyProperty('y', 'float')>\n",
      "  Property: z, data type: <bound method PlyProperty.dtype of PlyProperty('z', 'float')>\n",
      "Element: face\n",
      "  Property: vertex_index, data type: <bound method PlyListProperty.dtype of PlyListProperty('vertex_index', 'uchar', 'int')>\n"
     ]
    }
   ],
   "source": [
    "import plyfile  \n",
    "  \n",
    "# 打开PLY文件  \n",
    "plydata = plyfile.PlyData.read(data_path)  \n",
    "  \n",
    "# 打印出所有的元素和它们的属性  \n",
    "for element in plydata.elements:  \n",
    "    print(f\"Element: {element.name}\")  \n",
    "    for property in element.properties:  \n",
    "        print(f\"  Property: {property.name}, data type: {property.dtype}\")\n"
   ]
  }
 ],
 "metadata": {
  "kernelspec": {
   "display_name": "pointnet",
   "language": "python",
   "name": "python3"
  },
  "language_info": {
   "codemirror_mode": {
    "name": "ipython",
    "version": 3
   },
   "file_extension": ".py",
   "mimetype": "text/x-python",
   "name": "python",
   "nbconvert_exporter": "python",
   "pygments_lexer": "ipython3",
   "version": "3.8.18"
  }
 },
 "nbformat": 4,
 "nbformat_minor": 2
}
